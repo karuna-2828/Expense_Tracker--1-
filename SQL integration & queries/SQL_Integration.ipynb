{
 "cells": [
  {
   "cell_type": "markdown",
   "metadata": {},
   "source": [
    "3. SQL connection & creating Database"
   ]
  },
  {
   "cell_type": "code",
   "execution_count": 126,
   "metadata": {},
   "outputs": [
    {
     "name": "stdout",
     "output_type": "stream",
     "text": [
      "SQLite connection established!\n"
     ]
    }
   ],
   "source": [
    "#Creating SQL connection using SQLite3\n",
    "import sqlite3\n",
    "\n",
    "conn_sqlite = sqlite3.connect(\"expenses_database.sqlite\")  # Creates a local database file\n",
    "cursor = conn_sqlite.cursor()\n",
    "print(\"SQLite connection established!\")"
   ]
  },
  {
   "cell_type": "markdown",
   "metadata": {},
   "source": [
    "4. Creating a Table in the Database"
   ]
  },
  {
   "cell_type": "code",
   "execution_count": 127,
   "metadata": {},
   "outputs": [
    {
     "name": "stdout",
     "output_type": "stream",
     "text": [
      "Table 'expenses_data' created successfully in SQLite!\n"
     ]
    }
   ],
   "source": [
    "#Creating a table in SQLite\n",
    "cursor.execute(\"\"\"\n",
    "    CREATE TABLE IF NOT EXISTS expenses_data (\n",
    "        Date TEXT,\n",
    "        Category TEXT,\n",
    "        Payment_Mode TEXT,\n",
    "        Description TEXT,\n",
    "        Amount INTEGER,\n",
    "        Cashback INTEGER \n",
    "    );\n",
    "\"\"\")\n",
    "conn_sqlite.commit()\n",
    "print(\"Table 'expenses_data' created successfully in SQLite!\")"
   ]
  },
  {
   "cell_type": "markdown",
   "metadata": {},
   "source": [
    "5. Insert data into the table"
   ]
  },
  {
   "cell_type": "code",
   "execution_count": 128,
   "metadata": {},
   "outputs": [
    {
     "name": "stdout",
     "output_type": "stream",
     "text": [
      "Data inserted using iterrows()\n"
     ]
    }
   ],
   "source": [
    "#inserting the data into a table using iterrows\n",
    "for index, row in exp_data.iterrows():\n",
    "    cursor.execute(\"\"\"\n",
    "        INSERT INTO expenses_data (Date, Category,Payment_Mode,Description,Amount,Cashback)\n",
    "        VALUES (?, ?, ?, ?, ?, ?);\n",
    "    \"\"\", tuple(row))\n",
    "conn_sqlite.commit()\n",
    "print(\"Data inserted using iterrows()\")"
   ]
  }
 ],
 "metadata": {
  "kernelspec": {
   "display_name": "Python 3",
   "language": "python",
   "name": "python3"
  },
  "language_info": {
   "codemirror_mode": {
    "name": "ipython",
    "version": 3
   },
   "file_extension": ".py",
   "mimetype": "text/x-python",
   "name": "python",
   "nbconvert_exporter": "python",
   "pygments_lexer": "ipython3",
   "version": "3.10.11"
  }
 },
 "nbformat": 4,
 "nbformat_minor": 2
}
