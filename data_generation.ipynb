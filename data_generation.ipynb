{
 "cells": [
  {
   "cell_type": "markdown",
   "metadata": {},
   "source": [
    "1: Install Libraries"
   ]
  },
  {
   "cell_type": "code",
   "execution_count": 119,
   "metadata": {},
   "outputs": [
    {
     "name": "stdout",
     "output_type": "stream",
     "text": [
      "Requirement already satisfied: Faker in c:\\users\\sophi\\appdata\\local\\packages\\pythonsoftwarefoundation.python.3.10_qbz5n2kfra8p0\\localcache\\local-packages\\python310\\site-packages (33.3.0)\n",
      "Requirement already satisfied: pandas in c:\\users\\sophi\\appdata\\local\\packages\\pythonsoftwarefoundation.python.3.10_qbz5n2kfra8p0\\localcache\\local-packages\\python310\\site-packages (2.2.3)\n",
      "Requirement already satisfied: tabulate in c:\\users\\sophi\\appdata\\local\\packages\\pythonsoftwarefoundation.python.3.10_qbz5n2kfra8p0\\localcache\\local-packages\\python310\\site-packages (0.9.0)\n",
      "Requirement already satisfied: seaborn in c:\\users\\sophi\\appdata\\local\\packages\\pythonsoftwarefoundation.python.3.10_qbz5n2kfra8p0\\localcache\\local-packages\\python310\\site-packages (0.13.2)\n",
      "Requirement already satisfied: python-dateutil>=2.4 in c:\\users\\sophi\\appdata\\local\\packages\\pythonsoftwarefoundation.python.3.10_qbz5n2kfra8p0\\localcache\\local-packages\\python310\\site-packages (from Faker) (2.8.2)\n",
      "Requirement already satisfied: typing-extensions in c:\\users\\sophi\\appdata\\local\\packages\\pythonsoftwarefoundation.python.3.10_qbz5n2kfra8p0\\localcache\\local-packages\\python310\\site-packages (from Faker) (4.12.2)\n",
      "Requirement already satisfied: numpy>=1.22.4 in c:\\users\\sophi\\appdata\\local\\packages\\pythonsoftwarefoundation.python.3.10_qbz5n2kfra8p0\\localcache\\local-packages\\python310\\site-packages (from pandas) (2.2.1)\n",
      "Requirement already satisfied: pytz>=2020.1 in c:\\users\\sophi\\appdata\\local\\packages\\pythonsoftwarefoundation.python.3.10_qbz5n2kfra8p0\\localcache\\local-packages\\python310\\site-packages (from pandas) (2024.2)\n",
      "Requirement already satisfied: tzdata>=2022.7 in c:\\users\\sophi\\appdata\\local\\packages\\pythonsoftwarefoundation.python.3.10_qbz5n2kfra8p0\\localcache\\local-packages\\python310\\site-packages (from pandas) (2024.2)\n",
      "Requirement already satisfied: matplotlib!=3.6.1,>=3.4 in c:\\users\\sophi\\appdata\\local\\packages\\pythonsoftwarefoundation.python.3.10_qbz5n2kfra8p0\\localcache\\local-packages\\python310\\site-packages (from seaborn) (3.10.1)\n",
      "Requirement already satisfied: contourpy>=1.0.1 in c:\\users\\sophi\\appdata\\local\\packages\\pythonsoftwarefoundation.python.3.10_qbz5n2kfra8p0\\localcache\\local-packages\\python310\\site-packages (from matplotlib!=3.6.1,>=3.4->seaborn) (1.3.1)\n",
      "Requirement already satisfied: cycler>=0.10 in c:\\users\\sophi\\appdata\\local\\packages\\pythonsoftwarefoundation.python.3.10_qbz5n2kfra8p0\\localcache\\local-packages\\python310\\site-packages (from matplotlib!=3.6.1,>=3.4->seaborn) (0.12.1)\n",
      "Requirement already satisfied: fonttools>=4.22.0 in c:\\users\\sophi\\appdata\\local\\packages\\pythonsoftwarefoundation.python.3.10_qbz5n2kfra8p0\\localcache\\local-packages\\python310\\site-packages (from matplotlib!=3.6.1,>=3.4->seaborn) (4.57.0)\n",
      "Requirement already satisfied: kiwisolver>=1.3.1 in c:\\users\\sophi\\appdata\\local\\packages\\pythonsoftwarefoundation.python.3.10_qbz5n2kfra8p0\\localcache\\local-packages\\python310\\site-packages (from matplotlib!=3.6.1,>=3.4->seaborn) (1.4.8)\n",
      "Requirement already satisfied: packaging>=20.0 in c:\\users\\sophi\\appdata\\local\\packages\\pythonsoftwarefoundation.python.3.10_qbz5n2kfra8p0\\localcache\\local-packages\\python310\\site-packages (from matplotlib!=3.6.1,>=3.4->seaborn) (23.2)\n",
      "Requirement already satisfied: pillow>=8 in c:\\users\\sophi\\appdata\\local\\packages\\pythonsoftwarefoundation.python.3.10_qbz5n2kfra8p0\\localcache\\local-packages\\python310\\site-packages (from matplotlib!=3.6.1,>=3.4->seaborn) (11.1.0)\n",
      "Requirement already satisfied: pyparsing>=2.3.1 in c:\\users\\sophi\\appdata\\local\\packages\\pythonsoftwarefoundation.python.3.10_qbz5n2kfra8p0\\localcache\\local-packages\\python310\\site-packages (from matplotlib!=3.6.1,>=3.4->seaborn) (3.2.3)\n",
      "Requirement already satisfied: six>=1.5 in c:\\users\\sophi\\appdata\\local\\packages\\pythonsoftwarefoundation.python.3.10_qbz5n2kfra8p0\\localcache\\local-packages\\python310\\site-packages (from python-dateutil>=2.4->Faker) (1.16.0)\n"
     ]
    },
    {
     "name": "stderr",
     "output_type": "stream",
     "text": [
      "\n",
      "[notice] A new release of pip is available: 23.3.2 -> 25.0.1\n",
      "[notice] To update, run: C:\\Users\\sophi\\AppData\\Local\\Microsoft\\WindowsApps\\PythonSoftwareFoundation.Python.3.10_qbz5n2kfra8p0\\python.exe -m pip install --upgrade pip\n"
     ]
    }
   ],
   "source": [
    "#installing required libraries\n",
    "!pip install Faker pandas tabulate seaborn"
   ]
  },
  {
   "cell_type": "markdown",
   "metadata": {},
   "source": [
    "2. Generate Data using Faker library"
   ]
  },
  {
   "cell_type": "code",
   "execution_count": 120,
   "metadata": {},
   "outputs": [],
   "source": [
    "#importing, creating and initializing faker generator or object\n",
    "from faker import Faker\n",
    "fake = Faker()"
   ]
  },
  {
   "cell_type": "code",
   "execution_count": 121,
   "metadata": {},
   "outputs": [],
   "source": [
    "# Define a dictionary of expense categories and their subcategories.\n",
    "categories = {\n",
    "    \"EMI\": [\"Car\", \"Mobile\", \"Washing machine\", \"Air conditioner\"],\n",
    "    \"Bills\": [\"Water bill\", \"Electricity bill\", \"Mobile Recharge\", \"Wifi bill\", \"Gas bill\"],\n",
    "    \"Subscription\": [\"Netflix\", \"Amazon Prime\", \"Spotify\", \"Zomato\"],\n",
    "    \"Transportation\": [\"Train\", \"Flight\", \"Bus\", \"Ola\"],\n",
    "    \"Insurance\": [\"Health insurance\", \"Life insurance\", \"Auto insurance\"],\n",
    "    \"Shopping\": [\"Shopping expense\"],\n",
    "    \"Electronics\": [\"Laptop\", \"Mobile\", \"Tablet\"],\n",
    "    \"Groceries\": [\"Vegetables\", \"Fruits\", \"Grains & Bread\", \"Diary & eggs\", \"Spices\", \"Beverages\"],\n",
    "    \"Medical Expense\": [\"Medicine\", \"Consultation Fee\"]\n",
    "}\n",
    "\n",
    "# Define a list of payment modes.\n",
    "payment_modes = [\"UPI\", \"Cash\", \"Debit card\", \"Credit card\"]"
   ]
  },
  {
   "cell_type": "code",
   "execution_count": 122,
   "metadata": {},
   "outputs": [],
   "source": [
    "#creating expense table for a month\n",
    "import pandas as pd\n",
    "import random\n",
    "from datetime import date\n",
    "\n",
    "def gen_exp_data(entries, year,month, start_date,end_date):\n",
    "    data = []\n",
    "    start_date = date(year, month, start_date)\n",
    "    end_date = date(year, month, end_date)\n",
    "\n",
    "    for _ in range(entries):\n",
    "        category = random.choice(list(categories.keys()))\n",
    "        description = random.choice(categories[category])\n",
    "\n",
    "        expense = {\n",
    "            \"Date\": fake.date_between(start_date, end_date),\n",
    "            \"Category\": category,\n",
    "            \"Payment_Mode\": random.choice(payment_modes),\n",
    "            \"Description\": description,\n",
    "            \"Amount\": round(random.uniform(50, 1000), 2),\n",
    "            \"Cashback\": 0\n",
    "        }\n",
    "\n",
    "        if expense[\"Payment_Mode\"] in (\"Cash\", \"Debit card\",\"UPI\"):\n",
    "            expense[\"Cashback\"] = 0\n",
    "        else:\n",
    "            expense[\"Cashback\"] = round(random.uniform(1, 20), 2)\n",
    "\n",
    "        data.append(expense)\n",
    "\n",
    "\n",
    "    # Sort the data by date before creating the dataframe\n",
    "    data.sort(key=lambda x: x['Date'])\n",
    "\n",
    "    return pd.DataFrame(data)\n"
   ]
  },
  {
   "cell_type": "code",
   "execution_count": 123,
   "metadata": {},
   "outputs": [],
   "source": [
    "#providing inputs for each month (number of entries, year, month, start_date, end_date)\n",
    "exp_data1 = gen_exp_data(100,2024,1,1,31)\n",
    "exp_data2 = gen_exp_data(100,2024,2,1,29)\n",
    "exp_data3 = gen_exp_data(100,2024,3,1,31)\n",
    "exp_data4 = gen_exp_data(100,2024,4,1,30)\n",
    "exp_data5 = gen_exp_data(100,2024,5,1,31)\n",
    "exp_data6 = gen_exp_data(100,2024,6,1,30)\n",
    "exp_data7 = gen_exp_data(100,2024,7,1,31)\n",
    "exp_data8 = gen_exp_data(100,2024,8,1,31)\n",
    "exp_data9 = gen_exp_data(100,2024,9,1,30)\n",
    "exp_data10 = gen_exp_data(100,2024,10,1,31)\n",
    "exp_data11 = gen_exp_data(100,2024,11,1,30)\n",
    "exp_data12 = gen_exp_data(100,2024,12,1,31)"
   ]
  },
  {
   "cell_type": "code",
   "execution_count": 124,
   "metadata": {},
   "outputs": [
    {
     "data": {
      "text/html": [
       "<div>\n",
       "<style scoped>\n",
       "    .dataframe tbody tr th:only-of-type {\n",
       "        vertical-align: middle;\n",
       "    }\n",
       "\n",
       "    .dataframe tbody tr th {\n",
       "        vertical-align: top;\n",
       "    }\n",
       "\n",
       "    .dataframe thead th {\n",
       "        text-align: right;\n",
       "    }\n",
       "</style>\n",
       "<table border=\"1\" class=\"dataframe\">\n",
       "  <thead>\n",
       "    <tr style=\"text-align: right;\">\n",
       "      <th></th>\n",
       "      <th>Date</th>\n",
       "      <th>Category</th>\n",
       "      <th>Payment_Mode</th>\n",
       "      <th>Description</th>\n",
       "      <th>Amount</th>\n",
       "      <th>Cashback</th>\n",
       "    </tr>\n",
       "  </thead>\n",
       "  <tbody>\n",
       "    <tr>\n",
       "      <th>1</th>\n",
       "      <td>2024-01-01</td>\n",
       "      <td>Transportation</td>\n",
       "      <td>Credit card</td>\n",
       "      <td>Flight</td>\n",
       "      <td>652.98</td>\n",
       "      <td>1.89</td>\n",
       "    </tr>\n",
       "    <tr>\n",
       "      <th>2</th>\n",
       "      <td>2024-01-01</td>\n",
       "      <td>Subscription</td>\n",
       "      <td>UPI</td>\n",
       "      <td>Amazon Prime</td>\n",
       "      <td>307.73</td>\n",
       "      <td>0.00</td>\n",
       "    </tr>\n",
       "    <tr>\n",
       "      <th>3</th>\n",
       "      <td>2024-01-01</td>\n",
       "      <td>Subscription</td>\n",
       "      <td>UPI</td>\n",
       "      <td>Netflix</td>\n",
       "      <td>702.27</td>\n",
       "      <td>0.00</td>\n",
       "    </tr>\n",
       "    <tr>\n",
       "      <th>4</th>\n",
       "      <td>2024-01-01</td>\n",
       "      <td>Bills</td>\n",
       "      <td>Debit card</td>\n",
       "      <td>Gas bill</td>\n",
       "      <td>405.42</td>\n",
       "      <td>0.00</td>\n",
       "    </tr>\n",
       "    <tr>\n",
       "      <th>5</th>\n",
       "      <td>2024-01-01</td>\n",
       "      <td>Subscription</td>\n",
       "      <td>Debit card</td>\n",
       "      <td>Netflix</td>\n",
       "      <td>693.39</td>\n",
       "      <td>0.00</td>\n",
       "    </tr>\n",
       "  </tbody>\n",
       "</table>\n",
       "</div>"
      ],
      "text/plain": [
       "         Date        Category Payment_Mode   Description  Amount  Cashback\n",
       "1  2024-01-01  Transportation  Credit card        Flight  652.98      1.89\n",
       "2  2024-01-01    Subscription          UPI  Amazon Prime  307.73      0.00\n",
       "3  2024-01-01    Subscription          UPI       Netflix  702.27      0.00\n",
       "4  2024-01-01           Bills   Debit card      Gas bill  405.42      0.00\n",
       "5  2024-01-01    Subscription   Debit card       Netflix  693.39      0.00"
      ]
     },
     "execution_count": 124,
     "metadata": {},
     "output_type": "execute_result"
    }
   ],
   "source": [
    "#Concatenating all 12 months data into single dataframe\n",
    "exp_data=pd.concat([exp_data1,exp_data2,exp_data3,exp_data4,exp_data5,exp_data6,exp_data7,exp_data8,exp_data9,exp_data10,exp_data11,exp_data12],)\n",
    "\n",
    "#To change the starting index from 0 to 1\n",
    "exp_data.index = pd.RangeIndex(start=1, stop=len(exp_data)+1, step=1)\n",
    "\n",
    "#returns the generated data\n",
    "exp_data.head()"
   ]
  },
  {
   "cell_type": "code",
   "execution_count": 125,
   "metadata": {},
   "outputs": [],
   "source": [
    "#Converting dataframe into CSV file\n",
    "exp_data.to_csv(\"expense_data.csv\")"
   ]
  }
 ],
 "metadata": {
  "kernelspec": {
   "display_name": "Python 3",
   "language": "python",
   "name": "python3"
  },
  "language_info": {
   "codemirror_mode": {
    "name": "ipython",
    "version": 3
   },
   "file_extension": ".py",
   "mimetype": "text/x-python",
   "name": "python",
   "nbconvert_exporter": "python",
   "pygments_lexer": "ipython3",
   "version": "3.10.11"
  }
 },
 "nbformat": 4,
 "nbformat_minor": 2
}
